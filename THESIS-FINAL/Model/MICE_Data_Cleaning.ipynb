{
 "cells": [
  {
   "cell_type": "code",
   "execution_count": 27,
   "id": "bdb5d386-d273-4e40-b97f-10d1dedf5fd5",
   "metadata": {},
   "outputs": [
    {
     "name": "stdout",
     "output_type": "stream",
     "text": [
      "pH (units)                    0\n",
      "Ammonia (mg/L)                0\n",
      "Nitrate (mg/L)                0\n",
      "Inorganic Phosphate (mg/L)    0\n",
      "BOD (mg/l)                    0\n",
      "Dissolved Oxygen (mg/l)       0\n",
      "dtype: int64\n"
     ]
    }
   ],
   "source": [
    "import pandas as pd\n",
    "from sklearn.experimental import enable_iterative_imputer  # To enable the IterativeImputer\n",
    "from sklearn.impute import IterativeImputer\n",
    "\n",
    "# Load the dataset\n",
    "file_path = 'Complete.csv'\n",
    "df = pd.read_csv(file_path)\n",
    "\n",
    "# List of columns to fill based on their correlation with Phytoplankton (cells/ml)\n",
    "columns_to_fill = ['pH (units)', 'Ammonia (mg/L)', 'Nitrate (mg/L)', 'Inorganic Phosphate (mg/L)', 'BOD (mg/l)', 'Dissolved Oxygen (mg/l)']\n",
    "\n",
    "# Define the predictors to be used\n",
    "predictors = ['Phytoplankton (cells/ml)']\n",
    "\n",
    "# Create a subset of the DataFrame including the predictors and the columns to fill\n",
    "df_subset = df[predictors + columns_to_fill]\n",
    "\n",
    "# Initialize the MICE (Iterative Imputer)\n",
    "mice_imputer = IterativeImputer(max_iter=10, random_state=0)\n",
    "\n",
    "# Apply MICE imputation to the relevant subset of the DataFrame\n",
    "df_imputed = pd.DataFrame(mice_imputer.fit_transform(df_subset), columns=df_subset.columns)\n",
    "\n",
    "# Replace the original columns with the imputed ones\n",
    "df[columns_to_fill] = df_imputed[columns_to_fill]\n",
    "\n",
    "# Check if missing values are filled\n",
    "print(df[columns_to_fill].isnull().sum())\n",
    "\n",
    "# Save the updated dataset with imputed values to a new CSV file\n",
    "df.to_csv('Complete_MICE_Imputed.csv', index=False)\n"
   ]
  },
  {
   "cell_type": "code",
   "execution_count": 7,
   "id": "fd82d7cc-8cd1-42ff-a056-8366b03c361d",
   "metadata": {},
   "outputs": [
    {
     "name": "stdout",
     "output_type": "stream",
     "text": [
      "Fitting 3 folds for each of 2187 candidates, totalling 6561 fits\n",
      "Tuned XGBoost - Mean Squared Error: 4750472531.364605\n",
      "Tuned XGBoost - Mean Absolute Error: 38158.233733167144\n",
      "Tuned XGBoost - R^2 Score: 0.6946681057590547\n"
     ]
    }
   ],
   "source": [
    "import pandas as pd\n",
    "import seaborn as sns\n",
    "import matplotlib.pyplot as plt\n",
    "from sklearn.model_selection import train_test_split, GridSearchCV\n",
    "from sklearn.preprocessing import StandardScaler\n",
    "from sklearn.metrics import mean_squared_error, r2_score, mean_absolute_error\n",
    "from xgboost import XGBRegressor\n",
    "import wandb\n",
    "\n",
    "\n",
    "# Load dataset\n",
    "merged_df = pd.read_csv('Complete_MICE_Imputed.csv')\n",
    "merged_df = merged_df.dropna()\n",
    "\n",
    "# Select relevant features and target\n",
    "features = ['Temperature', 'Humidity', 'Wind Speed', 'pH (units)', 'Ammonia (mg/L)', 'Inorganic Phosphate (mg/L)', 'BOD (mg/l)', 'Total coliforms (MPN/100ml)']\n",
    "target = 'Phytoplankton (cells/ml)'\n",
    "\n",
    "# Split data into features (X) and target (y)\n",
    "X = merged_df[features]\n",
    "y = merged_df[target]\n",
    "\n",
    "# Split data into training and testing sets\n",
    "X_train, X_test, y_train, y_test = train_test_split(X, y, test_size=0.2, random_state=42)\n",
    "\n",
    "# Standardize the features\n",
    "scaler = StandardScaler()\n",
    "X_train_scaled = scaler.fit_transform(X_train)\n",
    "X_test_scaled = scaler.transform(X_test)\n",
    "\n",
    "# Define the parameter grid for tuning\n",
    "param_grid = {\n",
    "    'n_estimators': [100, 200, 500],\n",
    "    'learning_rate': [0.01, 0.1, 0.2],\n",
    "    'max_depth': [3, 5, 7],\n",
    "    'subsample': [0.7, 0.8, 1.0],\n",
    "    'colsample_bytree': [0.7, 0.8, 1.0],\n",
    "    'alpha': [0, 0.1, 0.5],  # L1 regularization\n",
    "    'lambda': [1, 1.5, 2]    # L2 regularization\n",
    "}\n",
    "\n",
    "# Initialize the XGBoost model\n",
    "xgb_model = XGBRegressor()\n",
    "\n",
    "# Perform Grid Search Cross-Validation to find the best hyperparameters\n",
    "grid_search = GridSearchCV(estimator=xgb_model, param_grid=param_grid, cv=3, scoring='neg_mean_squared_error', verbose=1, n_jobs=-1)\n",
    "grid_search.fit(X_train_scaled, y_train)\n",
    "\n",
    "# Get the best model after hyperparameter tuning\n",
    "best_xgb = grid_search.best_estimator_\n",
    "\n",
    "# Fit the best model on the training data\n",
    "best_xgb.fit(X_train_scaled, y_train)\n",
    "\n",
    "# Make predictions with the tuned model\n",
    "y_pred_xgb_tuned = best_xgb.predict(X_test_scaled)\n",
    "\n",
    "# Calculate evaluation metrics\n",
    "mse_xgb_tuned = mean_squared_error(y_test, y_pred_xgb_tuned)\n",
    "mae_xgb_tuned = mean_absolute_error(y_test, y_pred_xgb_tuned)\n",
    "r2_xgb_tuned = r2_score(y_test, y_pred_xgb_tuned)\n",
    "\n",
    "# Print the tuned model performance\n",
    "print(f'Tuned XGBoost - Mean Squared Error: {mse_xgb_tuned}')\n",
    "print(f'Tuned XGBoost - Mean Absolute Error: {mae_xgb_tuned}')\n",
    "print(f'Tuned XGBoost - R^2 Score: {r2_xgb_tuned}')\n",
    "\n"
   ]
  },
  {
   "cell_type": "code",
   "execution_count": 5,
   "id": "f448a7e1-6a8d-478a-9218-f0fb38595a5b",
   "metadata": {},
   "outputs": [
    {
     "name": "stdout",
     "output_type": "stream",
     "text": [
      "Mean: 50138.43838028169\n",
      "Highest: 1145724.0\n",
      "Lowest: 10.0\n"
     ]
    }
   ],
   "source": [
    "import pandas as pd\n",
    "df = pd.read_csv('Complete_MICE_Imputed.csv')\n",
    "\n",
    "highest = df['Phytoplankton (cells/ml)'].max()\n",
    "lowest = df['Phytoplankton (cells/ml)'].min()\n",
    "mean = df['Phytoplankton (cells/ml)'].mean()\n",
    "\n",
    "print('Mean:', mean)\n",
    "\n",
    "print(\"Highest:\", highest)\n",
    "print(\"Lowest:\", lowest)\n",
    "\n"
   ]
  },
  {
   "cell_type": "code",
   "execution_count": null,
   "id": "c0dbabe8-1175-4919-808d-558a8d050c99",
   "metadata": {},
   "outputs": [],
   "source": []
  }
 ],
 "metadata": {
  "kernelspec": {
   "display_name": "Python 3 (ipykernel)",
   "language": "python",
   "name": "python3"
  },
  "language_info": {
   "codemirror_mode": {
    "name": "ipython",
    "version": 3
   },
   "file_extension": ".py",
   "mimetype": "text/x-python",
   "name": "python",
   "nbconvert_exporter": "python",
   "pygments_lexer": "ipython3",
   "version": "3.12.4"
  }
 },
 "nbformat": 4,
 "nbformat_minor": 5
}
