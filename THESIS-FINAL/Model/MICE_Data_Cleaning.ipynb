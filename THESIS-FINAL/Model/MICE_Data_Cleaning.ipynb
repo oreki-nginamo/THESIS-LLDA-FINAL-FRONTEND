{
 "cells": [
  {
   "cell_type": "code",
   "execution_count": 27,
   "id": "bdb5d386-d273-4e40-b97f-10d1dedf5fd5",
   "metadata": {},
   "outputs": [
    {
     "name": "stdout",
     "output_type": "stream",
     "text": [
      "pH (units)                    0\n",
      "Ammonia (mg/L)                0\n",
      "Nitrate (mg/L)                0\n",
      "Inorganic Phosphate (mg/L)    0\n",
      "BOD (mg/l)                    0\n",
      "Dissolved Oxygen (mg/l)       0\n",
      "dtype: int64\n"
     ]
    }
   ],
   "source": [
    "import pandas as pd\n",
    "from sklearn.experimental import enable_iterative_imputer  # To enable the IterativeImputer\n",
    "from sklearn.impute import IterativeImputer\n",
    "\n",
    "# Load the dataset\n",
    "file_path = 'Complete.csv'\n",
    "df = pd.read_csv(file_path)\n",
    "\n",
    "# List of columns to fill based on their correlation with Phytoplankton (cells/ml)\n",
    "columns_to_fill = ['pH (units)', 'Ammonia (mg/L)', 'Nitrate (mg/L)', 'Inorganic Phosphate (mg/L)', 'BOD (mg/l)', 'Dissolved Oxygen (mg/l)']\n",
    "\n",
    "# Define the predictors to be used\n",
    "predictors = ['Phytoplankton (cells/ml)']\n",
    "\n",
    "# Create a subset of the DataFrame including the predictors and the columns to fill\n",
    "df_subset = df[predictors + columns_to_fill]\n",
    "\n",
    "# Initialize the MICE (Iterative Imputer)\n",
    "mice_imputer = IterativeImputer(max_iter=10, random_state=0)\n",
    "\n",
    "# Apply MICE imputation to the relevant subset of the DataFrame\n",
    "df_imputed = pd.DataFrame(mice_imputer.fit_transform(df_subset), columns=df_subset.columns)\n",
    "\n",
    "# Replace the original columns with the imputed ones\n",
    "df[columns_to_fill] = df_imputed[columns_to_fill]\n",
    "\n",
    "# Check if missing values are filled\n",
    "print(df[columns_to_fill].isnull().sum())\n",
    "\n",
    "# Save the updated dataset with imputed values to a new CSV file\n",
    "df.to_csv('Complete_MICE_Imputed.csv', index=False)\n"
   ]
  },
  {
   "cell_type": "code",
   "execution_count": null,
   "id": "fd82d7cc-8cd1-42ff-a056-8366b03c361d",
   "metadata": {},
   "outputs": [],
   "source": []
  }
 ],
 "metadata": {
  "kernelspec": {
   "display_name": "Python 3 (ipykernel)",
   "language": "python",
   "name": "python3"
  },
  "language_info": {
   "codemirror_mode": {
    "name": "ipython",
    "version": 3
   },
   "file_extension": ".py",
   "mimetype": "text/x-python",
   "name": "python",
   "nbconvert_exporter": "python",
   "pygments_lexer": "ipython3",
   "version": "3.12.4"
  }
 },
 "nbformat": 4,
 "nbformat_minor": 5
}
